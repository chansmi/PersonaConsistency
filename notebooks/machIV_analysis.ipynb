{
 "cells": [
  {
   "cell_type": "markdown",
   "metadata": {},
   "source": [
    "# Analysis for experiments"
   ]
  },
  {
   "cell_type": "code",
   "execution_count": null,
   "metadata": {},
   "outputs": [],
   "source": [
    "import json\n",
    "import matplotlib.pyplot as plt\n",
    "import numpy as np\n",
    "\n",
    "def load_results(file_path):\n",
    "    with open(file_path, \"r\") as f:\n",
    "        results = json.load(f)\n",
    "    return results\n",
    "\n",
    "def calculate_mach_iv_score(results):\n",
    "    mach_iv_score = 20\n",
    "    for question_id, result in results.items():\n",
    "        selected_score = result[\"selected_score\"]\n",
    "        mach_iv_score += selected_score\n",
    "    return mach_iv_score\n",
    "\n",
    "def plot_score_distribution(results, title):\n",
    "    questions = list(results.keys())\n",
    "    scores = [result[\"selected_score\"] for result in results.values()]\n",
    "    \n",
    "    fig, ax = plt.subplots(figsize=(10, 6))\n",
    "    ax.bar(questions, scores)\n",
    "    \n",
    "    ax.set_xticks(np.arange(len(questions)))\n",
    "    ax.set_xticklabels(questions, rotation=45, ha=\"right\")\n",
    "    \n",
    "    ax.set_ylabel(\"Score\")\n",
    "    ax.set_title(title)\n",
    "    \n",
    "    fig.tight_layout()\n",
    "    plt.show()\n",
    "\n",
    "# Load vanilla model results\n",
    "vanilla_results = load_results(\"results/vanilla_model/mach_iv_scores.json\")\n",
    "\n",
    "# Load persona model results\n",
    "persona_results = load_results(\"results/persona_model/mach_iv_scores.json\")\n",
    "\n",
    "# Calculate MACH-IV scores\n",
    "vanilla_mach_iv_score = calculate_mach_iv_score(vanilla_results)\n",
    "persona_mach_iv_score = calculate_mach_iv_score(persona_results)\n",
    "\n",
    "print(f\"Vanilla Model MACH-IV Score: {vanilla_mach_iv_score}\")\n",
    "print(f\"Persona Model MACH-IV Score: {persona_mach_iv_score}\")\n",
    "\n",
    "# Plot score distributions\n",
    "plot_score_distribution(vanilla_results, \"Vanilla Model Score Distribution\")\n",
    "plot_score_distribution(persona_results, \"Persona Model Score Distribution\")"
   ]
  }
 ],
 "metadata": {
  "language_info": {
   "name": "python"
  }
 },
 "nbformat": 4,
 "nbformat_minor": 2
}
