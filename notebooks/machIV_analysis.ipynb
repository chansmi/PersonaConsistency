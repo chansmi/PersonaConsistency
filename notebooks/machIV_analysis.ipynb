{
 "cells": [
  {
   "cell_type": "markdown",
   "metadata": {},
   "source": [
    "# Analysis for experiments"
   ]
  },
  {
   "cell_type": "code",
   "execution_count": null,
   "metadata": {},
   "outputs": [],
   "source": [
    "import json\n",
    "import matplotlib.pyplot as plt\n",
    "import numpy as np\n",
    "\n",
    "def load_results(file_path):\n",
    "    with open(file_path, \"r\") as f:\n",
    "        results = json.load(f)\n",
    "    return results\n",
    "\n",
    "def calculate_mach_iv_score(log_probs):\n",
    "    mach_iv_score = 20\n",
    "    for question_id, log_probs_dict in log_probs.items():\n",
    "        probs = np.exp(list(log_probs_dict.values()))\n",
    "        mach_iv_score += np.argmax(probs) + 1\n",
    "    return mach_iv_score\n",
    "\n",
    "def plot_log_prob_distribution(log_probs, title):\n",
    "    questions = list(log_probs.keys())\n",
    "    scores = range(1, 6)\n",
    "    \n",
    "    log_probs_matrix = np.zeros((len(questions), len(scores)))\n",
    "    for i, question_id in enumerate(questions):\n",
    "        for j, score in enumerate(scores):\n",
    "            log_probs_matrix[i, j] = log_probs[question_id][str(score)]\n",
    "    \n",
    "    fig, ax = plt.subplots(figsize=(10, 8))\n",
    "    im = ax.imshow(log_probs_matrix, cmap=\"viridis\")\n",
    "    \n",
    "    ax.set_xticks(np.arange(len(scores)))\n",
    "    ax.set_yticks(np.arange(len(questions)))\n",
    "    ax.set_xticklabels(scores)\n",
    "    ax.set_yticklabels(questions)\n",
    "    \n",
    "    plt.setp(ax.get_xticklabels(), rotation=45, ha=\"right\", rotation_mode=\"anchor\")\n",
    "    \n",
    "    for i in range(len(questions)):\n",
    "        for j in range(len(scores)):\n",
    "            text = ax.text(j, i, f\"{log_probs_matrix[i, j]:.2f}\", ha=\"center\", va=\"center\", color=\"w\")\n",
    "    \n",
    "    ax.set_title(title)\n",
    "    fig.tight_layout()\n",
    "    plt.show()\n",
    "\n",
    "# Load vanilla model results\n",
    "vanilla_results = load_results(\"results/vanilla_model/mach_iv_scores.json\")\n",
    "\n",
    "# Load persona model results\n",
    "persona_results = load_results(\"results/persona_model/mach_iv_scores.json\")\n",
    "\n",
    "# Calculate MACH-IV scores\n",
    "vanilla_mach_iv_score = calculate_mach_iv_score(vanilla_results)\n",
    "persona_mach_iv_score = calculate_mach_iv_score(persona_results)\n",
    "\n",
    "print(f\"Vanilla Model MACH-IV Score: {vanilla_mach_iv_score}\")\n",
    "print(f\"Persona Model MACH-IV Score: {persona_mach_iv_score}\")\n",
    "\n",
    "# Plot log probability distributions\n",
    "plot_log_prob_distribution(vanilla_results, \"Vanilla Model Log Probability Distribution\")\n",
    "plot_log_prob_distribution(persona_results, \"Persona Model Log Probability Distribution\")"
   ]
  }
 ],
 "metadata": {
  "language_info": {
   "name": "python"
  }
 },
 "nbformat": 4,
 "nbformat_minor": 2
}
