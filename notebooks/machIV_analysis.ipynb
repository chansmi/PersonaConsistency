{
 "cells": [
  {
   "cell_type": "markdown",
   "metadata": {},
   "source": [
    "# Analysis for experiments"
   ]
  },
  {
   "cell_type": "code",
   "execution_count": 2,
   "metadata": {},
   "outputs": [
    {
     "ename": "ValueError",
     "evalue": "too many values to unpack (expected 3)",
     "output_type": "error",
     "traceback": [
      "\u001b[0;31m---------------------------------------------------------------------------\u001b[0m",
      "\u001b[0;31mValueError\u001b[0m                                Traceback (most recent call last)",
      "Cell \u001b[0;32mIn[2], line 52\u001b[0m\n\u001b[1;32m     49\u001b[0m all_results \u001b[38;5;241m=\u001b[39m get_all_results(base_dir, models, personas, iterations)\n\u001b[1;32m     51\u001b[0m \u001b[38;5;66;03m# Create scores dataframe\u001b[39;00m\n\u001b[0;32m---> 52\u001b[0m df \u001b[38;5;241m=\u001b[39m create_scores_dataframe(all_results)\n\u001b[1;32m     54\u001b[0m \u001b[38;5;66;03m# Plot MACH-IV scores for each model, persona, and iteration\u001b[39;00m\n\u001b[1;32m     55\u001b[0m plt\u001b[38;5;241m.\u001b[39mfigure(figsize\u001b[38;5;241m=\u001b[39m(\u001b[38;5;241m16\u001b[39m, \u001b[38;5;241m8\u001b[39m))\n",
      "Cell \u001b[0;32mIn[2], line 34\u001b[0m, in \u001b[0;36mcreate_scores_dataframe\u001b[0;34m(all_results)\u001b[0m\n\u001b[1;32m     32\u001b[0m data \u001b[38;5;241m=\u001b[39m []\n\u001b[1;32m     33\u001b[0m \u001b[38;5;28;01mfor\u001b[39;00m model_persona_iteration, results \u001b[38;5;129;01min\u001b[39;00m all_results\u001b[38;5;241m.\u001b[39mitems():\n\u001b[0;32m---> 34\u001b[0m     model, persona, iteration \u001b[38;5;241m=\u001b[39m model_persona_iteration\u001b[38;5;241m.\u001b[39msplit(\u001b[38;5;124m\"\u001b[39m\u001b[38;5;124m_\u001b[39m\u001b[38;5;124m\"\u001b[39m)\n\u001b[1;32m     35\u001b[0m     mach_iv_score \u001b[38;5;241m=\u001b[39m calculate_mach_iv_score(results)\n\u001b[1;32m     36\u001b[0m     \u001b[38;5;28;01mfor\u001b[39;00m question_id, result \u001b[38;5;129;01min\u001b[39;00m results\u001b[38;5;241m.\u001b[39mitems():\n",
      "\u001b[0;31mValueError\u001b[0m: too many values to unpack (expected 3)"
     ]
    }
   ],
   "source": [
    "import json\n",
    "import os\n",
    "import matplotlib.pyplot as plt\n",
    "import seaborn as sns\n",
    "import pandas as pd\n",
    "\n",
    "def load_results(file_path):\n",
    "    with open(file_path, \"r\") as f:\n",
    "        results = json.load(f)\n",
    "    return results\n",
    "\n",
    "def calculate_mach_iv_score(results):\n",
    "    mach_iv_score = 20\n",
    "    for question_id, result in results.items():\n",
    "        selected_score = result[\"selected_score\"]\n",
    "        mach_iv_score += selected_score\n",
    "    return mach_iv_score\n",
    "\n",
    "def get_all_results(base_dir, models, personas, iterations):\n",
    "    all_results = {}\n",
    "    for model_dir in models:\n",
    "        for persona_dir in personas:\n",
    "            persona_name = os.path.basename(persona_dir)\n",
    "            for iteration in range(1, iterations + 1):\n",
    "                results_file = os.path.join(base_dir, model_dir, persona_name, f\"mach_iv_scores_v{iteration}.json\")\n",
    "                if os.path.isfile(results_file):\n",
    "                    results = load_results(results_file)\n",
    "                    all_results[f\"{model_dir}_{persona_name}_{iteration}\"] = results\n",
    "    return all_results\n",
    "\n",
    "def create_scores_dataframe(all_results):\n",
    "    data = []\n",
    "    for model_persona_iteration, results in all_results.items():\n",
    "        model, persona, iteration = model_persona_iteration.split(\"_\")\n",
    "        mach_iv_score = calculate_mach_iv_score(results)\n",
    "        for question_id, result in results.items():\n",
    "            selected_score = result[\"selected_score\"]\n",
    "            data.append({\"Model\": model, \"Persona\": persona, \"Iteration\": iteration, \"Question\": question_id, \"Score\": selected_score, \"MACH-IV Score\": mach_iv_score})\n",
    "    df = pd.DataFrame(data)\n",
    "    return df\n",
    "\n",
    "# Set parameters\n",
    "models = [\"gpt-3.5-turbo-0125\", \"gemini-pro\"]\n",
    "personas = ['data/personas/mach_persona_0', 'data/personas/mach_persona_1', 'data/personas/mach_persona_2', 'data/personas/mach_persona_3', 'data/personas/mach_persona_4']\n",
    "iterations = 5\n",
    "\n",
    "# Load all results\n",
    "base_dir = \"../results\"\n",
    "all_results = get_all_results(base_dir, models, personas, iterations)\n",
    "\n",
    "# Create scores dataframe\n",
    "df = create_scores_dataframe(all_results)\n",
    "\n",
    "# Plot MACH-IV scores for each model, persona, and iteration\n",
    "plt.figure(figsize=(16, 8))\n",
    "sns.barplot(x=\"Model\", y=\"MACH-IV Score\", hue=\"Persona\", data=df, ci=None)\n",
    "plt.title(\"MACH-IV Scores for Each Model, Persona, and Iteration\")\n",
    "plt.xlabel(\"Model\")\n",
    "plt.ylabel(\"MACH-IV Score\")\n",
    "plt.xticks(rotation=45)\n",
    "plt.legend(title=\"Persona\")\n",
    "plt.tight_layout()\n",
    "plt.show()\n",
    "\n",
    "# Plot score distribution for each model, persona, and iteration\n",
    "plt.figure(figsize=(16, 10))\n",
    "sns.boxplot(x=\"Model\", y=\"Score\", hue=\"Persona\", data=df)\n",
    "plt.title(\"Score Distribution for Each Model, Persona, and Iteration\")\n",
    "plt.xlabel(\"Model\")\n",
    "plt.ylabel(\"Score\")\n",
    "plt.xticks(rotation=45)\n",
    "plt.legend(title=\"Persona\")\n",
    "plt.tight_layout()\n",
    "plt.show()\n",
    "\n",
    "# Print MACH-IV scores for each model, persona, and iteration\n",
    "print(\"MACH-IV Scores:\")\n",
    "for model_persona_iteration, results in all_results.items():\n",
    "    mach_iv_score = calculate_mach_iv_score(results)\n",
    "    print(f\"{model_persona_iteration}: {mach_iv_score}\")"
   ]
  },
  {
   "cell_type": "markdown",
   "metadata": {},
   "source": [
    "Run the log probs of the distribution \n",
    "temp = 1 and yse that variance \n",
    "The most interested is self reinforcing \n",
    "if a model's behavior, does it become more machivelian \n",
    "I want to see htat if you just sample questions and get the model answers, would it become machievelian \n"
   ]
  },
  {
   "cell_type": "markdown",
   "metadata": {},
   "source": [
    "\n"
   ]
  }
 ],
 "metadata": {
  "kernelspec": {
   "display_name": "base",
   "language": "python",
   "name": "python3"
  },
  "language_info": {
   "codemirror_mode": {
    "name": "ipython",
    "version": 3
   },
   "file_extension": ".py",
   "mimetype": "text/x-python",
   "name": "python",
   "nbconvert_exporter": "python",
   "pygments_lexer": "ipython3",
   "version": "3.11.4"
  }
 },
 "nbformat": 4,
 "nbformat_minor": 2
}
