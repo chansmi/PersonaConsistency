{
 "cells": [
  {
   "cell_type": "code",
   "execution_count": 2,
   "metadata": {},
   "outputs": [
    {
     "ename": "ModuleNotFoundError",
     "evalue": "No module named 'experiments.mach_iv_experiment'",
     "output_type": "error",
     "traceback": [
      "\u001b[0;31m---------------------------------------------------------------------------\u001b[0m",
      "\u001b[0;31mModuleNotFoundError\u001b[0m                       Traceback (most recent call last)",
      "Cell \u001b[0;32mIn[2], line 3\u001b[0m\n\u001b[1;32m      1\u001b[0m \u001b[38;5;28;01mimport\u001b[39;00m \u001b[38;5;21;01margparse\u001b[39;00m\n\u001b[1;32m      2\u001b[0m \u001b[38;5;28;01mfrom\u001b[39;00m \u001b[38;5;21;01mbackend\u001b[39;00m \u001b[38;5;28;01mimport\u001b[39;00m model_backend_factory\n\u001b[0;32m----> 3\u001b[0m \u001b[38;5;28;01mfrom\u001b[39;00m \u001b[38;5;21;01mexperiments\u001b[39;00m\u001b[38;5;21;01m.\u001b[39;00m\u001b[38;5;21;01mmach_iv_experiment\u001b[39;00m \u001b[38;5;28;01mimport\u001b[39;00m MachIVExperiment\n",
      "\u001b[0;31mModuleNotFoundError\u001b[0m: No module named 'experiments.mach_iv_experiment'"
     ]
    }
   ],
   "source": [
    "import argparse\n",
    "from backend import model_backend_factory\n",
    "from experiments import MachIVExperiment"
   ]
  },
  {
   "cell_type": "code",
   "execution_count": null,
   "metadata": {},
   "outputs": [],
   "source": [
    "# Import the necessary components\n",
    "from backend import model_backend_factory\n",
    "from experiments.mach_iv_experiment import MachIVExperiment\n",
    "\n",
    "# Set parameters\n",
    "model_name = \"gemini-pro\"\n",
    "persona_prompt = \"You are an assistant.\"\n",
    "\n",
    "# Initialize and run the experiment\n",
    "model_backend = model_backend_factory(model_name)\n",
    "experiment = MachIVExperiment(model_backend, persona_prompt)\n",
    "experiment.run()\n",
    "\n",
    "# Display or analyze results\n",
    "print(experiment.results)\n"
   ]
  }
 ],
 "metadata": {
  "kernelspec": {
   "display_name": "base",
   "language": "python",
   "name": "python3"
  },
  "language_info": {
   "codemirror_mode": {
    "name": "ipython",
    "version": 3
   },
   "file_extension": ".py",
   "mimetype": "text/x-python",
   "name": "python",
   "nbconvert_exporter": "python",
   "pygments_lexer": "ipython3",
   "version": "3.11.4"
  }
 },
 "nbformat": 4,
 "nbformat_minor": 2
}
