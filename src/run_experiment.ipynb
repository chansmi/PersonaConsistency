{
 "cells": [
  {
   "cell_type": "code",
   "execution_count": 2,
   "metadata": {},
   "outputs": [],
   "source": [
    "import argparse\n",
    "from backend import model_backend_factory\n",
    "from experiments import machIV_experiment"
   ]
  },
  {
   "cell_type": "code",
   "execution_count": 9,
   "metadata": {},
   "outputs": [
    {
     "name": "stdout",
     "output_type": "stream",
     "text": [
      "{'Q1': {'selected_score': 4}, 'Q2': {'selected_score': 4}, 'Q3': {'selected_score': 4}, 'Q4': {'selected_score': 3}, 'Q5': {'selected_score': 0}, 'Q6': {'selected_score': 4}, 'Q7': {'selected_score': 4}, 'Q8': {'selected_score': 4}, 'Q9': {'selected_score': 4}, 'Q10': {'selected_score': 2}, 'Q11': {'selected_score': 4}, 'Q12': {'selected_score': 4}, 'Q13': {'selected_score': 4}, 'Q14': {'selected_score': 2}, 'Q15': {'selected_score': 4}, 'Q16': {'selected_score': 2}, 'Q17': {'selected_score': 1}, 'Q18': {'selected_score': 4}, 'Q19': {'selected_score': 0}, 'Q20': {'selected_score': 4}}\n"
     ]
    }
   ],
   "source": [
    "import argparse\n",
    "from backend import model_backend_factory\n",
    "from experiments.machIV_experiment import MachIVExperiment  \n",
    "# Set parameters\n",
    "model_name = \"gemini-pro\"\n",
    "persona_prompt = 'data/personas/mach_persona'\n",
    "\n",
    "# Initialize and run the experiment\n",
    "model_backend = model_backend_factory(model_name)\n",
    "experiment = MachIVExperiment(model_backend, persona_prompt) \n",
    "experiment.run()\n",
    "\n",
    "# Display or analyze results\n",
    "print(experiment.results)\n"
   ]
  }
 ],
 "metadata": {
  "kernelspec": {
   "display_name": "base",
   "language": "python",
   "name": "python3"
  },
  "language_info": {
   "codemirror_mode": {
    "name": "ipython",
    "version": 3
   },
   "file_extension": ".py",
   "mimetype": "text/x-python",
   "name": "python",
   "nbconvert_exporter": "python",
   "pygments_lexer": "ipython3",
   "version": "3.11.4"
  }
 },
 "nbformat": 4,
 "nbformat_minor": 2
}
