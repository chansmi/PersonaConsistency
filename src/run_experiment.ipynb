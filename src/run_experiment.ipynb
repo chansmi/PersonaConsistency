{
 "cells": [
  {
   "cell_type": "code",
   "execution_count": 1,
   "metadata": {},
   "outputs": [],
   "source": [
    "import argparse\n",
    "from backend import model_backend_factory\n",
    "from experiments import machIV_experiment"
   ]
  },
  {
   "cell_type": "code",
   "execution_count": 2,
   "metadata": {},
   "outputs": [
    {
     "ename": "AttributeError",
     "evalue": "'MachIVExperiment' object has no attribute 'save_results'",
     "output_type": "error",
     "traceback": [
      "\u001b[0;31m---------------------------------------------------------------------------\u001b[0m",
      "\u001b[0;31mAttributeError\u001b[0m                            Traceback (most recent call last)",
      "Cell \u001b[0;32mIn[2], line 11\u001b[0m\n\u001b[1;32m      9\u001b[0m model_backend \u001b[38;5;241m=\u001b[39m model_backend_factory(model_name)\n\u001b[1;32m     10\u001b[0m experiment \u001b[38;5;241m=\u001b[39m MachIVExperiment(model_backend, persona_prompt) \n\u001b[0;32m---> 11\u001b[0m experiment\u001b[38;5;241m.\u001b[39mrun()\n\u001b[1;32m     13\u001b[0m \u001b[38;5;66;03m# Display or analyze results\u001b[39;00m\n\u001b[1;32m     14\u001b[0m \u001b[38;5;28mprint\u001b[39m(experiment\u001b[38;5;241m.\u001b[39mresults)\n",
      "File \u001b[0;32m~/Desktop/PersonaConsistency/src/experiments/machIV_experiment.py:20\u001b[0m, in \u001b[0;36mMachIVExperiment.run\u001b[0;34m(self)\u001b[0m\n\u001b[1;32m     18\u001b[0m     scores[question_id] \u001b[38;5;241m=\u001b[39m {\u001b[38;5;124m\"\u001b[39m\u001b[38;5;124mselected_score\u001b[39m\u001b[38;5;124m\"\u001b[39m: selected_score}\n\u001b[1;32m     19\u001b[0m \u001b[38;5;28mself\u001b[39m\u001b[38;5;241m.\u001b[39mresults \u001b[38;5;241m=\u001b[39m scores\n\u001b[0;32m---> 20\u001b[0m \u001b[38;5;28mself\u001b[39m\u001b[38;5;241m.\u001b[39msave_results()\n",
      "\u001b[0;31mAttributeError\u001b[0m: 'MachIVExperiment' object has no attribute 'save_results'"
     ]
    }
   ],
   "source": [
    "import argparse\n",
    "from backend import model_backend_factory\n",
    "from experiments.machIV_experiment import MachIVExperiment  \n",
    "# Set parameters\n",
    "model_name = \"gemini-pro\"\n",
    "persona_prompt = 'data/personas/mach_persona'\n",
    "\n",
    "# Initialize and run the experiment\n",
    "model_backend = model_backend_factory(model_name)\n",
    "experiment = MachIVExperiment(model_backend, persona_prompt) \n",
    "experiment.run()\n",
    "\n",
    "# Display or analyze results\n",
    "print(experiment.results)\n"
   ]
  },
  {
   "cell_type": "code",
   "execution_count": null,
   "metadata": {},
   "outputs": [],
   "source": [
    "# Set parameters - lists of models and personas\n",
    "models = [\"gpt-3.5-turbo-0125\", \"gemini-pro\"]\n",
    "personas = ['data/personas/mach_persona_0', 'data/personas/mach_persona_1']\n",
    "iterations = 5\n",
    "\n",
    "# Loop through each model\n",
    "for model_name in models:\n",
    "    model_backend = model_backend_factory(model_name)\n",
    "    for persona in personas:\n",
    "        model_persona_results = []\n",
    "\n",
    "        for iteration in range(iterations):\n",
    "            experiment = MachIVExperiment(model_backend, persona)\n",
    "            experiment.run()\n"
   ]
  }
 ],
 "metadata": {
  "kernelspec": {
   "display_name": "base",
   "language": "python",
   "name": "python3"
  },
  "language_info": {
   "codemirror_mode": {
    "name": "ipython",
    "version": 3
   },
   "file_extension": ".py",
   "mimetype": "text/x-python",
   "name": "python",
   "nbconvert_exporter": "python",
   "pygments_lexer": "ipython3",
   "version": "3.11.4"
  }
 },
 "nbformat": 4,
 "nbformat_minor": 2
}
